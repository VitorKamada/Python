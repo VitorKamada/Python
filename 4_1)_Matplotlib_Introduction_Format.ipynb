{
  "nbformat": 4,
  "nbformat_minor": 0,
  "metadata": {
    "colab": {
      "name": "4.1) Matplotlib: Introduction Format.ipynb",
      "version": "0.3.2",
      "provenance": []
    },
    "kernelspec": {
      "name": "python3",
      "display_name": "Python 3"
    }
  },
  "cells": [
    {
      "cell_type": "markdown",
      "metadata": {
        "id": "CGKCKD4fYCSV",
        "colab_type": "text"
      },
      "source": [
        "# 4.1) Matplotlib: Introduction"
      ]
    },
    {
      "cell_type": "markdown",
      "metadata": {
        "id": "hI9zrDq_YBdN",
        "colab_type": "text"
      },
      "source": [
        "**Created by Vitor Kamada**\n",
        "\n",
        "**Date:** 9/8/2019"
      ]
    },
    {
      "cell_type": "code",
      "metadata": {
        "id": "BSYcn3GjYAjj",
        "colab_type": "code",
        "colab": {}
      },
      "source": [
        "import numpy as np\n",
        "import pandas as pd\n",
        "import matplotlib.pyplot as plt"
      ],
      "execution_count": 0,
      "outputs": []
    },
    {
      "cell_type": "code",
      "metadata": {
        "id": "cT2DScYgZwSr",
        "colab_type": "code",
        "outputId": "6a98bb2d-fcc2-4ea4-d23a-33e94747401c",
        "colab": {
          "base_uri": "https://localhost:8080/",
          "height": 312
        }
      },
      "source": [
        "plt.axis([0,4,0,12])\n",
        "plt.title('Quadratic')\n",
        "plt.plot([0,1,2,3],[0,1,4,9],'ro')\n",
        "plt.hlines(9, 0, 3, colors='blue', linestyles='solid')\n",
        "plt.vlines(3, 0, 9, colors='green', linestyles='dashed')\n",
        "plt.xlabel('x Values')\n",
        "plt.ylabel('y Values')\n",
        "plt.text(2,4,'(2,4)')\n",
        "plt.legend(['First Series'])\n",
        "plt.text(0.5,6,r'$y = x^2$',fontsize=25,bbox={'facecolor':'yellow',\n",
        "     'alpha':0.2})"
      ],
      "execution_count": 3,
      "outputs": [
        {
          "output_type": "execute_result",
          "data": {
            "text/plain": [
              "Text(0.5, 6, '$y = x^2$')"
            ]
          },
          "metadata": {
            "tags": []
          },
          "execution_count": 3
        },
        {
          "output_type": "display_data",
          "data": {
            "image/png": "[encoded data removed]",
            "text/plain": [
              "<Figure size 432x288 with 1 Axes>"
            ]
          },
          "metadata": {
            "tags": []
          }
        }
      ]
    }
  ]
}