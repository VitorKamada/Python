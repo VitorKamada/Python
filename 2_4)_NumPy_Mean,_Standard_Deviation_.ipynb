{
  "nbformat": 4,
  "nbformat_minor": 0,
  "metadata": {
    "colab": {
      "name": "2.4) NumPy: Mean, Standard Deviation ....ipynb",
      "version": "0.3.2",
      "provenance": []
    },
    "kernelspec": {
      "name": "python3",
      "display_name": "Python 3"
    }
  },
  "cells": [
    {
      "cell_type": "markdown",
      "metadata": {
        "id": "CGKCKD4fYCSV",
        "colab_type": "text"
      },
      "source": [
        "# 2.4) NumPy:  Mean, Standard Deviation ..."
      ]
    },
    {
      "cell_type": "markdown",
      "metadata": {
        "id": "hI9zrDq_YBdN",
        "colab_type": "text"
      },
      "source": [
        "**Created by Vitor Kamada**\n",
        "\n",
        "**Date:** 6/29/2019"
      ]
    },
    {
      "cell_type": "code",
      "metadata": {
        "id": "BSYcn3GjYAjj",
        "colab_type": "code",
        "colab": {}
      },
      "source": [
        "import numpy as np"
      ],
      "execution_count": 0,
      "outputs": []
    },
    {
      "cell_type": "markdown",
      "metadata": {
        "id": "0iZdzVZmbwjV",
        "colab_type": "text"
      },
      "source": [
        "Let's create a sequence of numbers:"
      ]
    },
    {
      "cell_type": "code",
      "metadata": {
        "id": "SSWfn25Nc8sO",
        "colab_type": "code",
        "outputId": "528832e7-9082-414b-e5e2-819cdd90768f",
        "colab": {
          "base_uri": "https://localhost:8080/",
          "height": 34
        }
      },
      "source": [
        "a = np.arange(1,9,2)\n",
        "a"
      ],
      "execution_count": 2,
      "outputs": [
        {
          "output_type": "execute_result",
          "data": {
            "text/plain": [
              "array([1, 3, 5, 7])"
            ]
          },
          "metadata": {
            "tags": []
          },
          "execution_count": 2
        }
      ]
    },
    {
      "cell_type": "markdown",
      "metadata": {
        "id": "6uy7nTm-ep9i",
        "colab_type": "text"
      },
      "source": [
        "What is the minimun?"
      ]
    },
    {
      "cell_type": "code",
      "metadata": {
        "id": "goyo1n0GewWG",
        "colab_type": "code",
        "outputId": "bd2577f4-7550-451e-c76d-f5f0c1f44168",
        "colab": {
          "base_uri": "https://localhost:8080/",
          "height": 34
        }
      },
      "source": [
        "a.min()"
      ],
      "execution_count": 3,
      "outputs": [
        {
          "output_type": "execute_result",
          "data": {
            "text/plain": [
              "1"
            ]
          },
          "metadata": {
            "tags": []
          },
          "execution_count": 3
        }
      ]
    },
    {
      "cell_type": "markdown",
      "metadata": {
        "id": "vyksLrKZg4iF",
        "colab_type": "text"
      },
      "source": [
        "What is the maximum?"
      ]
    },
    {
      "cell_type": "code",
      "metadata": {
        "id": "dABVFaIqYDYF",
        "colab_type": "code",
        "outputId": "d408eb01-eeda-463f-fd55-29fa6ded50fe",
        "colab": {
          "base_uri": "https://localhost:8080/",
          "height": 34
        }
      },
      "source": [
        "a.max()"
      ],
      "execution_count": 4,
      "outputs": [
        {
          "output_type": "execute_result",
          "data": {
            "text/plain": [
              "7"
            ]
          },
          "metadata": {
            "tags": []
          },
          "execution_count": 4
        }
      ]
    },
    {
      "cell_type": "markdown",
      "metadata": {
        "id": "Kk6RStYCi_wy",
        "colab_type": "text"
      },
      "source": [
        "What is the average?\n",
        "\n",
        "$\\mu = \\frac{\\displaystyle\\sum_{i=1}^{n}x_i} {n}$"
      ]
    },
    {
      "cell_type": "code",
      "metadata": {
        "id": "WVSivTGyJMrU",
        "colab_type": "code",
        "colab": {
          "base_uri": "https://localhost:8080/",
          "height": 34
        },
        "outputId": "1370d33b-a45b-4484-e3b8-de5851d0c6db"
      },
      "source": [
        "a.sum()/len(a)"
      ],
      "execution_count": 12,
      "outputs": [
        {
          "output_type": "execute_result",
          "data": {
            "text/plain": [
              "4.0"
            ]
          },
          "metadata": {
            "tags": []
          },
          "execution_count": 12
        }
      ]
    },
    {
      "cell_type": "code",
      "metadata": {
        "id": "5wuVl4MSdoWN",
        "colab_type": "code",
        "outputId": "aead3f5c-2be3-4a22-9211-98f9797abd4c",
        "colab": {
          "base_uri": "https://localhost:8080/",
          "height": 34
        }
      },
      "source": [
        "a.mean()"
      ],
      "execution_count": 5,
      "outputs": [
        {
          "output_type": "execute_result",
          "data": {
            "text/plain": [
              "4.0"
            ]
          },
          "metadata": {
            "tags": []
          },
          "execution_count": 5
        }
      ]
    },
    {
      "cell_type": "markdown",
      "metadata": {
        "id": "aUH0BRdNc-yL",
        "colab_type": "text"
      },
      "source": [
        "What is the median?\n",
        "\n",
        "\n"
      ]
    },
    {
      "cell_type": "code",
      "metadata": {
        "id": "Zqc-pRg9E3mC",
        "colab_type": "code",
        "colab": {
          "base_uri": "https://localhost:8080/",
          "height": 34
        },
        "outputId": "4340b2d7-5056-45a7-8036-b73e82aa272d"
      },
      "source": [
        "np.median(a)"
      ],
      "execution_count": 6,
      "outputs": [
        {
          "output_type": "execute_result",
          "data": {
            "text/plain": [
              "4.0"
            ]
          },
          "metadata": {
            "tags": []
          },
          "execution_count": 6
        }
      ]
    },
    {
      "cell_type": "markdown",
      "metadata": {
        "id": "9GkiT5gxE2cs",
        "colab_type": "text"
      },
      "source": [
        "What is the variance?\n",
        "\n",
        "$\\sigma^2 = \\frac{\\sum_{i=1}^{n}(x_i - \\mu)^2} {n}$"
      ]
    },
    {
      "cell_type": "code",
      "metadata": {
        "id": "kvO5ZEaQKEjK",
        "colab_type": "code",
        "colab": {
          "base_uri": "https://localhost:8080/",
          "height": 34
        },
        "outputId": "e4bbfd80-486d-4c0b-e753-cbf552a021ca"
      },
      "source": [
        "sum((a-np.mean(a))**2)/len(a)"
      ],
      "execution_count": 19,
      "outputs": [
        {
          "output_type": "execute_result",
          "data": {
            "text/plain": [
              "5.0"
            ]
          },
          "metadata": {
            "tags": []
          },
          "execution_count": 19
        }
      ]
    },
    {
      "cell_type": "code",
      "metadata": {
        "id": "5iV8HXB9F-dF",
        "colab_type": "code",
        "colab": {
          "base_uri": "https://localhost:8080/",
          "height": 34
        },
        "outputId": "c1f638db-b49e-4950-9e66-fa56226a05e5"
      },
      "source": [
        "a.var()"
      ],
      "execution_count": 7,
      "outputs": [
        {
          "output_type": "execute_result",
          "data": {
            "text/plain": [
              "5.0"
            ]
          },
          "metadata": {
            "tags": []
          },
          "execution_count": 7
        }
      ]
    },
    {
      "cell_type": "markdown",
      "metadata": {
        "id": "AoJgGuzqIFLT",
        "colab_type": "text"
      },
      "source": [
        "What is the standard deviation?\n",
        "\n",
        " $\\sigma =\\sqrt{\\sigma^2}$"
      ]
    },
    {
      "cell_type": "code",
      "metadata": {
        "id": "umq_OU-kYC_N",
        "colab_type": "code",
        "outputId": "f464c9c7-9c0a-494b-bd78-1965a9fe4eb6",
        "colab": {
          "base_uri": "https://localhost:8080/",
          "height": 34
        }
      },
      "source": [
        "a.std()"
      ],
      "execution_count": 8,
      "outputs": [
        {
          "output_type": "execute_result",
          "data": {
            "text/plain": [
              "2.23606797749979"
            ]
          },
          "metadata": {
            "tags": []
          },
          "execution_count": 8
        }
      ]
    }
  ]
}