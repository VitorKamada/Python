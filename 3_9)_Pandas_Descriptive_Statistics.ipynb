{
  "nbformat": 4,
  "nbformat_minor": 0,
  "metadata": {
    "colab": {
      "name": "3.9) Pandas: Descriptive Statistics.ipynb",
      "provenance": []
    },
    "kernelspec": {
      "name": "python3",
      "display_name": "Python 3"
    }
  },
  "cells": [
    {
      "cell_type": "markdown",
      "metadata": {
        "id": "CGKCKD4fYCSV",
        "colab_type": "text"
      },
      "source": [
        "# 3.9) Pandas: Descriptive Statistics"
      ]
    },
    {
      "cell_type": "markdown",
      "metadata": {
        "id": "hI9zrDq_YBdN",
        "colab_type": "text"
      },
      "source": [
        "**Created by Vitor Kamada**\n",
        "\n",
        "**Date:** 10/6/2019"
      ]
    },
    {
      "cell_type": "code",
      "metadata": {
        "id": "hoAksNauNlfi",
        "colab_type": "code",
        "colab": {}
      },
      "source": [
        "import numpy as np\n",
        "import pandas as pd\n",
        "import matplotlib.pyplot as plt"
      ],
      "execution_count": 0,
      "outputs": []
    },
    {
      "cell_type": "code",
      "metadata": {
        "id": "cT2DScYgZwSr",
        "colab_type": "code",
        "outputId": "f909df84-e99f-4838-856c-88cfb1db49e2",
        "colab": {
          "base_uri": "https://localhost:8080/",
          "height": 120
        }
      },
      "source": [
        "import statsmodels.api as sm\n",
        "print(sm.datasets.fair.SOURCE)"
      ],
      "execution_count": 2,
      "outputs": [
        {
          "output_type": "stream",
          "text": [
            "\n",
            "Fair, Ray. 1978. \"A Theory of Extramarital Affairs,\" `Journal of Political\n",
            "Economy`, February, 45-61.\n",
            "\n",
            "The data is available at http://fairmodel.econ.yale.edu/rayfair/pdf/2011b.htm\n",
            "\n"
          ],
          "name": "stdout"
        }
      ]
    },
    {
      "cell_type": "code",
      "metadata": {
        "id": "VB_VzIjXdBVr",
        "colab_type": "code",
        "outputId": "5487b320-a1ed-4dc0-9f26-db4ae728dee2",
        "colab": {
          "base_uri": "https://localhost:8080/",
          "height": 499
        }
      },
      "source": [
        "print(sm.datasets.fair.NOTE)"
      ],
      "execution_count": 3,
      "outputs": [
        {
          "output_type": "stream",
          "text": [
            "::\n",
            "\n",
            "    Number of observations: 6366\n",
            "    Number of variables: 9\n",
            "    Variable name definitions:\n",
            "\n",
            "        rate_marriage   : How rate marriage, 1 = very poor, 2 = poor, 3 = fair,\n",
            "                        4 = good, 5 = very good\n",
            "        age             : Age\n",
            "        yrs_married     : No. years married. Interval approximations. See\n",
            "                        original paper for detailed explanation.\n",
            "        children        : No. children\n",
            "        religious       : How relgious, 1 = not, 2 = mildly, 3 = fairly,\n",
            "                        4 = strongly\n",
            "        educ            : Level of education, 9 = grade school, 12 = high\n",
            "                        school, 14 = some college, 16 = college graduate,\n",
            "                        17 = some graduate school, 20 = advanced degree\n",
            "        occupation      : 1 = student, 2 = farming, agriculture; semi-skilled,\n",
            "                        or unskilled worker; 3 = white-colloar; 4 = teacher\n",
            "                        counselor social worker, nurse; artist, writers;\n",
            "                        technician, skilled worker, 5 = managerial,\n",
            "                        administrative, business, 6 = professional with\n",
            "                        advanced degree\n",
            "        occupation_husb : Husband's occupation. Same as occupation.\n",
            "        affairs         : measure of time spent in extramarital affairs\n",
            "\n",
            "    See the original paper for more details.\n",
            "\n"
          ],
          "name": "stdout"
        }
      ]
    },
    {
      "cell_type": "code",
      "metadata": {
        "id": "GVPDTpFXZ6L5",
        "colab_type": "code",
        "outputId": "1b85feb9-bc3a-48e0-d09d-e485098958ac",
        "colab": {
          "base_uri": "https://localhost:8080/",
          "height": 264
        }
      },
      "source": [
        "df = sm.datasets.fair.load_pandas().data\n",
        "df[0:7]"
      ],
      "execution_count": 4,
      "outputs": [
        {
          "output_type": "execute_result",
          "data": {
            "text/html": [
              "<div>\n",
              "<style scoped>\n",
              "    .dataframe tbody tr th:only-of-type {\n",
              "        vertical-align: middle;\n",
              "    }\n",
              "\n",
              "    .dataframe tbody tr th {\n",
              "        vertical-align: top;\n",
              "    }\n",
              "\n",
              "    .dataframe thead th {\n",
              "        text-align: right;\n",
              "    }\n",
              "</style>\n",
              "<table border=\"1\" class=\"dataframe\">\n",
              "  <thead>\n",
              "    <tr style=\"text-align: right;\">\n",
              "      <th></th>\n",
              "      <th>rate_marriage</th>\n",
              "      <th>age</th>\n",
              "      <th>yrs_married</th>\n",
              "      <th>children</th>\n",
              "      <th>religious</th>\n",
              "      <th>educ</th>\n",
              "      <th>occupation</th>\n",
              "      <th>occupation_husb</th>\n",
              "      <th>affairs</th>\n",
              "    </tr>\n",
              "  </thead>\n",
              "  <tbody>\n",
              "    <tr>\n",
              "      <th>0</th>\n",
              "      <td>3.0</td>\n",
              "      <td>32.0</td>\n",
              "      <td>9.0</td>\n",
              "      <td>3.0</td>\n",
              "      <td>3.0</td>\n",
              "      <td>17.0</td>\n",
              "      <td>2.0</td>\n",
              "      <td>5.0</td>\n",
              "      <td>0.111111</td>\n",
              "    </tr>\n",
              "    <tr>\n",
              "      <th>1</th>\n",
              "      <td>3.0</td>\n",
              "      <td>27.0</td>\n",
              "      <td>13.0</td>\n",
              "      <td>3.0</td>\n",
              "      <td>1.0</td>\n",
              "      <td>14.0</td>\n",
              "      <td>3.0</td>\n",
              "      <td>4.0</td>\n",
              "      <td>3.230769</td>\n",
              "    </tr>\n",
              "    <tr>\n",
              "      <th>2</th>\n",
              "      <td>4.0</td>\n",
              "      <td>22.0</td>\n",
              "      <td>2.5</td>\n",
              "      <td>0.0</td>\n",
              "      <td>1.0</td>\n",
              "      <td>16.0</td>\n",
              "      <td>3.0</td>\n",
              "      <td>5.0</td>\n",
              "      <td>1.400000</td>\n",
              "    </tr>\n",
              "    <tr>\n",
              "      <th>3</th>\n",
              "      <td>4.0</td>\n",
              "      <td>37.0</td>\n",
              "      <td>16.5</td>\n",
              "      <td>4.0</td>\n",
              "      <td>3.0</td>\n",
              "      <td>16.0</td>\n",
              "      <td>5.0</td>\n",
              "      <td>5.0</td>\n",
              "      <td>0.727273</td>\n",
              "    </tr>\n",
              "    <tr>\n",
              "      <th>4</th>\n",
              "      <td>5.0</td>\n",
              "      <td>27.0</td>\n",
              "      <td>9.0</td>\n",
              "      <td>1.0</td>\n",
              "      <td>1.0</td>\n",
              "      <td>14.0</td>\n",
              "      <td>3.0</td>\n",
              "      <td>4.0</td>\n",
              "      <td>4.666666</td>\n",
              "    </tr>\n",
              "    <tr>\n",
              "      <th>5</th>\n",
              "      <td>4.0</td>\n",
              "      <td>27.0</td>\n",
              "      <td>9.0</td>\n",
              "      <td>0.0</td>\n",
              "      <td>2.0</td>\n",
              "      <td>14.0</td>\n",
              "      <td>3.0</td>\n",
              "      <td>4.0</td>\n",
              "      <td>4.666666</td>\n",
              "    </tr>\n",
              "    <tr>\n",
              "      <th>6</th>\n",
              "      <td>5.0</td>\n",
              "      <td>37.0</td>\n",
              "      <td>23.0</td>\n",
              "      <td>5.5</td>\n",
              "      <td>2.0</td>\n",
              "      <td>12.0</td>\n",
              "      <td>5.0</td>\n",
              "      <td>4.0</td>\n",
              "      <td>0.852174</td>\n",
              "    </tr>\n",
              "  </tbody>\n",
              "</table>\n",
              "</div>"
            ],
            "text/plain": [
              "   rate_marriage   age  yrs_married  ...  occupation  occupation_husb   affairs\n",
              "0            3.0  32.0          9.0  ...         2.0              5.0  0.111111\n",
              "1            3.0  27.0         13.0  ...         3.0              4.0  3.230769\n",
              "2            4.0  22.0          2.5  ...         3.0              5.0  1.400000\n",
              "3            4.0  37.0         16.5  ...         5.0              5.0  0.727273\n",
              "4            5.0  27.0          9.0  ...         3.0              4.0  4.666666\n",
              "5            4.0  27.0          9.0  ...         3.0              4.0  4.666666\n",
              "6            5.0  37.0         23.0  ...         5.0              4.0  0.852174\n",
              "\n",
              "[7 rows x 9 columns]"
            ]
          },
          "metadata": {
            "tags": []
          },
          "execution_count": 4
        }
      ]
    },
    {
      "cell_type": "code",
      "metadata": {
        "id": "nO5-FMLvaJXv",
        "colab_type": "code",
        "outputId": "7a381a69-6bb8-4cb8-d4c8-e08372b0e5da",
        "colab": {
          "base_uri": "https://localhost:8080/",
          "height": 315
        }
      },
      "source": [
        "pd.set_option('precision', 2)\n",
        "df.describe()"
      ],
      "execution_count": 5,
      "outputs": [
        {
          "output_type": "execute_result",
          "data": {
            "text/html": [
              "<div>\n",
              "<style scoped>\n",
              "    .dataframe tbody tr th:only-of-type {\n",
              "        vertical-align: middle;\n",
              "    }\n",
              "\n",
              "    .dataframe tbody tr th {\n",
              "        vertical-align: top;\n",
              "    }\n",
              "\n",
              "    .dataframe thead th {\n",
              "        text-align: right;\n",
              "    }\n",
              "</style>\n",
              "<table border=\"1\" class=\"dataframe\">\n",
              "  <thead>\n",
              "    <tr style=\"text-align: right;\">\n",
              "      <th></th>\n",
              "      <th>rate_marriage</th>\n",
              "      <th>age</th>\n",
              "      <th>yrs_married</th>\n",
              "      <th>children</th>\n",
              "      <th>religious</th>\n",
              "      <th>educ</th>\n",
              "      <th>occupation</th>\n",
              "      <th>occupation_husb</th>\n",
              "      <th>affairs</th>\n",
              "    </tr>\n",
              "  </thead>\n",
              "  <tbody>\n",
              "    <tr>\n",
              "      <th>count</th>\n",
              "      <td>6366.00</td>\n",
              "      <td>6366.00</td>\n",
              "      <td>6366.00</td>\n",
              "      <td>6366.00</td>\n",
              "      <td>6366.00</td>\n",
              "      <td>6366.00</td>\n",
              "      <td>6366.00</td>\n",
              "      <td>6366.00</td>\n",
              "      <td>6366.00</td>\n",
              "    </tr>\n",
              "    <tr>\n",
              "      <th>mean</th>\n",
              "      <td>4.11</td>\n",
              "      <td>29.08</td>\n",
              "      <td>9.01</td>\n",
              "      <td>1.40</td>\n",
              "      <td>2.43</td>\n",
              "      <td>14.21</td>\n",
              "      <td>3.42</td>\n",
              "      <td>3.85</td>\n",
              "      <td>0.71</td>\n",
              "    </tr>\n",
              "    <tr>\n",
              "      <th>std</th>\n",
              "      <td>0.96</td>\n",
              "      <td>6.85</td>\n",
              "      <td>7.28</td>\n",
              "      <td>1.43</td>\n",
              "      <td>0.88</td>\n",
              "      <td>2.18</td>\n",
              "      <td>0.94</td>\n",
              "      <td>1.35</td>\n",
              "      <td>2.20</td>\n",
              "    </tr>\n",
              "    <tr>\n",
              "      <th>min</th>\n",
              "      <td>1.00</td>\n",
              "      <td>17.50</td>\n",
              "      <td>0.50</td>\n",
              "      <td>0.00</td>\n",
              "      <td>1.00</td>\n",
              "      <td>9.00</td>\n",
              "      <td>1.00</td>\n",
              "      <td>1.00</td>\n",
              "      <td>0.00</td>\n",
              "    </tr>\n",
              "    <tr>\n",
              "      <th>25%</th>\n",
              "      <td>4.00</td>\n",
              "      <td>22.00</td>\n",
              "      <td>2.50</td>\n",
              "      <td>0.00</td>\n",
              "      <td>2.00</td>\n",
              "      <td>12.00</td>\n",
              "      <td>3.00</td>\n",
              "      <td>3.00</td>\n",
              "      <td>0.00</td>\n",
              "    </tr>\n",
              "    <tr>\n",
              "      <th>50%</th>\n",
              "      <td>4.00</td>\n",
              "      <td>27.00</td>\n",
              "      <td>6.00</td>\n",
              "      <td>1.00</td>\n",
              "      <td>2.00</td>\n",
              "      <td>14.00</td>\n",
              "      <td>3.00</td>\n",
              "      <td>4.00</td>\n",
              "      <td>0.00</td>\n",
              "    </tr>\n",
              "    <tr>\n",
              "      <th>75%</th>\n",
              "      <td>5.00</td>\n",
              "      <td>32.00</td>\n",
              "      <td>16.50</td>\n",
              "      <td>2.00</td>\n",
              "      <td>3.00</td>\n",
              "      <td>16.00</td>\n",
              "      <td>4.00</td>\n",
              "      <td>5.00</td>\n",
              "      <td>0.48</td>\n",
              "    </tr>\n",
              "    <tr>\n",
              "      <th>max</th>\n",
              "      <td>5.00</td>\n",
              "      <td>42.00</td>\n",
              "      <td>23.00</td>\n",
              "      <td>5.50</td>\n",
              "      <td>4.00</td>\n",
              "      <td>20.00</td>\n",
              "      <td>6.00</td>\n",
              "      <td>6.00</td>\n",
              "      <td>57.60</td>\n",
              "    </tr>\n",
              "  </tbody>\n",
              "</table>\n",
              "</div>"
            ],
            "text/plain": [
              "       rate_marriage      age  ...  occupation_husb  affairs\n",
              "count        6366.00  6366.00  ...          6366.00  6366.00\n",
              "mean            4.11    29.08  ...             3.85     0.71\n",
              "std             0.96     6.85  ...             1.35     2.20\n",
              "min             1.00    17.50  ...             1.00     0.00\n",
              "25%             4.00    22.00  ...             3.00     0.00\n",
              "50%             4.00    27.00  ...             4.00     0.00\n",
              "75%             5.00    32.00  ...             5.00     0.48\n",
              "max             5.00    42.00  ...             6.00    57.60\n",
              "\n",
              "[8 rows x 9 columns]"
            ]
          },
          "metadata": {
            "tags": []
          },
          "execution_count": 5
        }
      ]
    },
    {
      "cell_type": "code",
      "metadata": {
        "id": "DTTLuVncOkdX",
        "colab_type": "code",
        "colab": {}
      },
      "source": [
        "df['affair'] = (df['affairs'] > 0).astype(float)"
      ],
      "execution_count": 0,
      "outputs": []
    },
    {
      "cell_type": "code",
      "metadata": {
        "id": "vINaOb3JOrPe",
        "colab_type": "code",
        "colab": {
          "base_uri": "https://localhost:8080/",
          "height": 300
        },
        "outputId": "e95899ff-889d-4645-df5e-bc7ac3918c4d"
      },
      "source": [
        "import seaborn as sns\n",
        "sns.countplot(x='affair', data=df)"
      ],
      "execution_count": 7,
      "outputs": [
        {
          "output_type": "execute_result",
          "data": {
            "text/plain": [
              "<matplotlib.axes._subplots.AxesSubplot at 0x7fdba04c7c88>"
            ]
          },
          "metadata": {
            "tags": []
          },
          "execution_count": 7
        },
        {
          "output_type": "display_data",
          "data": {
            "image/png": "[encoded data removed]",
            "text/plain": [
              "<Figure size 432x288 with 1 Axes>"
            ]
          },
          "metadata": {
            "tags": []
          }
        }
      ]
    },
    {
      "cell_type": "code",
      "metadata": {
        "id": "sprPHX5NQL5V",
        "colab_type": "code",
        "colab": {
          "base_uri": "https://localhost:8080/",
          "height": 301
        },
        "outputId": "7d626bae-b056-4f6c-87a2-d0ade86df58e"
      },
      "source": [
        "sns.regplot(y= 'affair', x='rate_marriage', data=df, ci=95)"
      ],
      "execution_count": 8,
      "outputs": [
        {
          "output_type": "execute_result",
          "data": {
            "text/plain": [
              "<matplotlib.axes._subplots.AxesSubplot at 0x7fdb9ff7e748>"
            ]
          },
          "metadata": {
            "tags": []
          },
          "execution_count": 8
        },
        {
          "output_type": "display_data",
          "data": {
            "image/png": "[encoded data removed]",
            "text/plain": [
              "<Figure size 432x288 with 1 Axes>"
            ]
          },
          "metadata": {
            "tags": []
          }
        }
      ]
    },
    {
      "cell_type": "code",
      "metadata": {
        "id": "RcwAmZPuQDgp",
        "colab_type": "code",
        "colab": {
          "base_uri": "https://localhost:8080/",
          "height": 301
        },
        "outputId": "c4b7f87c-76ba-4607-f393-5c9830918224"
      },
      "source": [
        "sns.regplot(y= 'affair', x='rate_marriage', data=df, ci=95, logistic=True)"
      ],
      "execution_count": 9,
      "outputs": [
        {
          "output_type": "execute_result",
          "data": {
            "text/plain": [
              "<matplotlib.axes._subplots.AxesSubplot at 0x7fdb9df369e8>"
            ]
          },
          "metadata": {
            "tags": []
          },
          "execution_count": 9
        },
        {
          "output_type": "display_data",
          "data": {
            "image/png": "[encoded data removed]",
            "text/plain": [
              "<Figure size 432x288 with 1 Axes>"
            ]
          },
          "metadata": {
            "tags": []
          }
        }
      ]
    },
    {
      "cell_type": "code",
      "metadata": {
        "id": "ClIIfr1HOz3X",
        "colab_type": "code",
        "colab": {
          "base_uri": "https://localhost:8080/",
          "height": 253
        },
        "outputId": "941e3836-3b30-44f6-ced1-adf12f1c970b"
      },
      "source": [
        "df.groupby('rate_marriage').mean()"
      ],
      "execution_count": 10,
      "outputs": [
        {
          "output_type": "execute_result",
          "data": {
            "text/html": [
              "<div>\n",
              "<style scoped>\n",
              "    .dataframe tbody tr th:only-of-type {\n",
              "        vertical-align: middle;\n",
              "    }\n",
              "\n",
              "    .dataframe tbody tr th {\n",
              "        vertical-align: top;\n",
              "    }\n",
              "\n",
              "    .dataframe thead th {\n",
              "        text-align: right;\n",
              "    }\n",
              "</style>\n",
              "<table border=\"1\" class=\"dataframe\">\n",
              "  <thead>\n",
              "    <tr style=\"text-align: right;\">\n",
              "      <th></th>\n",
              "      <th>age</th>\n",
              "      <th>yrs_married</th>\n",
              "      <th>children</th>\n",
              "      <th>religious</th>\n",
              "      <th>educ</th>\n",
              "      <th>occupation</th>\n",
              "      <th>occupation_husb</th>\n",
              "      <th>affairs</th>\n",
              "      <th>affair</th>\n",
              "    </tr>\n",
              "    <tr>\n",
              "      <th>rate_marriage</th>\n",
              "      <th></th>\n",
              "      <th></th>\n",
              "      <th></th>\n",
              "      <th></th>\n",
              "      <th></th>\n",
              "      <th></th>\n",
              "      <th></th>\n",
              "      <th></th>\n",
              "      <th></th>\n",
              "    </tr>\n",
              "  </thead>\n",
              "  <tbody>\n",
              "    <tr>\n",
              "      <th>1.0</th>\n",
              "      <td>33.82</td>\n",
              "      <td>13.91</td>\n",
              "      <td>2.31</td>\n",
              "      <td>2.34</td>\n",
              "      <td>13.85</td>\n",
              "      <td>3.23</td>\n",
              "      <td>3.84</td>\n",
              "      <td>1.20</td>\n",
              "      <td>0.75</td>\n",
              "    </tr>\n",
              "    <tr>\n",
              "      <th>2.0</th>\n",
              "      <td>30.47</td>\n",
              "      <td>10.73</td>\n",
              "      <td>1.74</td>\n",
              "      <td>2.33</td>\n",
              "      <td>13.86</td>\n",
              "      <td>3.33</td>\n",
              "      <td>3.76</td>\n",
              "      <td>1.62</td>\n",
              "      <td>0.64</td>\n",
              "    </tr>\n",
              "    <tr>\n",
              "      <th>3.0</th>\n",
              "      <td>30.01</td>\n",
              "      <td>10.24</td>\n",
              "      <td>1.64</td>\n",
              "      <td>2.31</td>\n",
              "      <td>14.00</td>\n",
              "      <td>3.40</td>\n",
              "      <td>3.80</td>\n",
              "      <td>1.37</td>\n",
              "      <td>0.55</td>\n",
              "    </tr>\n",
              "    <tr>\n",
              "      <th>4.0</th>\n",
              "      <td>28.86</td>\n",
              "      <td>8.82</td>\n",
              "      <td>1.37</td>\n",
              "      <td>2.40</td>\n",
              "      <td>14.14</td>\n",
              "      <td>3.42</td>\n",
              "      <td>3.84</td>\n",
              "      <td>0.67</td>\n",
              "      <td>0.32</td>\n",
              "    </tr>\n",
              "    <tr>\n",
              "      <th>5.0</th>\n",
              "      <td>28.57</td>\n",
              "      <td>8.31</td>\n",
              "      <td>1.25</td>\n",
              "      <td>2.51</td>\n",
              "      <td>14.40</td>\n",
              "      <td>3.45</td>\n",
              "      <td>3.89</td>\n",
              "      <td>0.35</td>\n",
              "      <td>0.18</td>\n",
              "    </tr>\n",
              "  </tbody>\n",
              "</table>\n",
              "</div>"
            ],
            "text/plain": [
              "                 age  yrs_married  children  ...  occupation_husb  affairs  affair\n",
              "rate_marriage                                ...                                  \n",
              "1.0            33.82        13.91      2.31  ...             3.84     1.20    0.75\n",
              "2.0            30.47        10.73      1.74  ...             3.76     1.62    0.64\n",
              "3.0            30.01        10.24      1.64  ...             3.80     1.37    0.55\n",
              "4.0            28.86         8.82      1.37  ...             3.84     0.67    0.32\n",
              "5.0            28.57         8.31      1.25  ...             3.89     0.35    0.18\n",
              "\n",
              "[5 rows x 9 columns]"
            ]
          },
          "metadata": {
            "tags": []
          },
          "execution_count": 10
        }
      ]
    }
  ]
}