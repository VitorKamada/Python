{
  "nbformat": 4,
  "nbformat_minor": 0,
  "metadata": {
    "colab": {
      "name": "2.2) NumPy: Creating Array.ipynb",
      "version": "0.3.2",
      "provenance": []
    },
    "kernelspec": {
      "name": "python3",
      "display_name": "Python 3"
    }
  },
  "cells": [
    {
      "cell_type": "markdown",
      "metadata": {
        "id": "CGKCKD4fYCSV",
        "colab_type": "text"
      },
      "source": [
        "# 2.2) NumPy:  Creating Array\n"
      ]
    },
    {
      "cell_type": "markdown",
      "metadata": {
        "id": "hI9zrDq_YBdN",
        "colab_type": "text"
      },
      "source": [
        "**Created by Vitor Kamada**\n",
        "\n",
        "**Date:** 6/28/2019"
      ]
    },
    {
      "cell_type": "code",
      "metadata": {
        "id": "BSYcn3GjYAjj",
        "colab_type": "code",
        "colab": {}
      },
      "source": [
        "import numpy as np"
      ],
      "execution_count": 0,
      "outputs": []
    },
    {
      "cell_type": "markdown",
      "metadata": {
        "id": "0iZdzVZmbwjV",
        "colab_type": "text"
      },
      "source": [
        "Let's create a matrix 2x3 with zeros:"
      ]
    },
    {
      "cell_type": "code",
      "metadata": {
        "id": "dABVFaIqYDYF",
        "colab_type": "code",
        "outputId": "bb951241-8d18-4e7f-fb30-7a34df1d977e",
        "colab": {
          "base_uri": "https://localhost:8080/",
          "height": 51
        }
      },
      "source": [
        "np.zeros((2, 3))"
      ],
      "execution_count": 0,
      "outputs": [
        {
          "output_type": "execute_result",
          "data": {
            "text/plain": [
              "array([[0., 0., 0.],\n",
              "       [0., 0., 0.]])"
            ]
          },
          "metadata": {
            "tags": []
          },
          "execution_count": 4
        }
      ]
    },
    {
      "cell_type": "markdown",
      "metadata": {
        "id": "aUH0BRdNc-yL",
        "colab_type": "text"
      },
      "source": [
        "Let's create a sequence of numbers:\n",
        "\n",
        "\n"
      ]
    },
    {
      "cell_type": "code",
      "metadata": {
        "id": "umq_OU-kYC_N",
        "colab_type": "code",
        "outputId": "17b34a52-2620-4bbe-e654-7ca12e60cea8",
        "colab": {
          "base_uri": "https://localhost:8080/",
          "height": 34
        }
      },
      "source": [
        "np.arange(0, 10, 3)"
      ],
      "execution_count": 0,
      "outputs": [
        {
          "output_type": "execute_result",
          "data": {
            "text/plain": [
              "array([0, 3, 6, 9])"
            ]
          },
          "metadata": {
            "tags": []
          },
          "execution_count": 13
        }
      ]
    },
    {
      "cell_type": "markdown",
      "metadata": {
        "id": "-w0R4eksgnqz",
        "colab_type": "text"
      },
      "source": [
        "We can also use the function linspace():"
      ]
    },
    {
      "cell_type": "code",
      "metadata": {
        "id": "FvOkDW1HYCv1",
        "colab_type": "code",
        "outputId": "dc165b3b-fd32-4ccd-bfc5-3c701f0ff51c",
        "colab": {
          "base_uri": "https://localhost:8080/",
          "height": 34
        }
      },
      "source": [
        "np.linspace(1,9,5)"
      ],
      "execution_count": 0,
      "outputs": [
        {
          "output_type": "execute_result",
          "data": {
            "text/plain": [
              "array([1., 3., 5., 7., 9.])"
            ]
          },
          "metadata": {
            "tags": []
          },
          "execution_count": 25
        }
      ]
    },
    {
      "cell_type": "markdown",
      "metadata": {
        "id": "bgQdk5I_hB8D",
        "colab_type": "text"
      },
      "source": [
        "Let's create random values:"
      ]
    },
    {
      "cell_type": "code",
      "metadata": {
        "id": "e4fyWvPPkz8H",
        "colab_type": "code",
        "outputId": "495a4cc3-2492-4559-8543-cee79c8e6ef3",
        "colab": {
          "base_uri": "https://localhost:8080/",
          "height": 69
        }
      },
      "source": [
        "np.random.random((3,2))"
      ],
      "execution_count": 0,
      "outputs": [
        {
          "output_type": "execute_result",
          "data": {
            "text/plain": [
              "array([[0.47335913, 0.00853873],\n",
              "       [0.42665776, 0.74977086],\n",
              "       [0.37441074, 0.95557596]])"
            ]
          },
          "metadata": {
            "tags": []
          },
          "execution_count": 29
        }
      ]
    }
  ]
}