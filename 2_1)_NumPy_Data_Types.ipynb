{
  "nbformat": 4,
  "nbformat_minor": 0,
  "metadata": {
    "colab": {
      "name": "2.1) NumPy: Data Types.ipynb",
      "version": "0.3.2",
      "provenance": []
    },
    "kernelspec": {
      "name": "python3",
      "display_name": "Python 3"
    }
  },
  "cells": [
    {
      "cell_type": "markdown",
      "metadata": {
        "id": "CGKCKD4fYCSV",
        "colab_type": "text"
      },
      "source": [
        "# 2.1) NumPy:  Data Types\n"
      ]
    },
    {
      "cell_type": "markdown",
      "metadata": {
        "id": "hI9zrDq_YBdN",
        "colab_type": "text"
      },
      "source": [
        "**Created by Vitor Kamada**\n",
        "\n",
        "**Date:** 6/28/2019"
      ]
    },
    {
      "cell_type": "markdown",
      "metadata": {
        "id": "pFKe9oB4ZIwu",
        "colab_type": "text"
      },
      "source": [
        "NumPy is a library for scientific computing.\n",
        "\n",
        "The most  used package to perform numerical calculations. "
      ]
    },
    {
      "cell_type": "code",
      "metadata": {
        "id": "BSYcn3GjYAjj",
        "colab_type": "code",
        "colab": {}
      },
      "source": [
        "import numpy as np"
      ],
      "execution_count": 0,
      "outputs": []
    },
    {
      "cell_type": "markdown",
      "metadata": {
        "id": "0iZdzVZmbwjV",
        "colab_type": "text"
      },
      "source": [
        "Let's define an array with 3 elements:"
      ]
    },
    {
      "cell_type": "code",
      "metadata": {
        "id": "dABVFaIqYDYF",
        "colab_type": "code",
        "colab": {
          "base_uri": "https://localhost:8080/",
          "height": 34
        },
        "outputId": "ff02008b-e529-48a7-8464-abfb9aca7380"
      },
      "source": [
        "a = np.array([1, 2, 3])\n",
        "a"
      ],
      "execution_count": 17,
      "outputs": [
        {
          "output_type": "execute_result",
          "data": {
            "text/plain": [
              "array([1, 2, 3])"
            ]
          },
          "metadata": {
            "tags": []
          },
          "execution_count": 17
        }
      ]
    },
    {
      "cell_type": "markdown",
      "metadata": {
        "id": "aUH0BRdNc-yL",
        "colab_type": "text"
      },
      "source": [
        "Let's check the object type:\n",
        "\n",
        "\n"
      ]
    },
    {
      "cell_type": "code",
      "metadata": {
        "id": "umq_OU-kYC_N",
        "colab_type": "code",
        "colab": {
          "base_uri": "https://localhost:8080/",
          "height": 34
        },
        "outputId": "b29c3f0e-766d-4bfa-eb74-20ca33019ff0"
      },
      "source": [
        "type(a)"
      ],
      "execution_count": 3,
      "outputs": [
        {
          "output_type": "execute_result",
          "data": {
            "text/plain": [
              "numpy.ndarray"
            ]
          },
          "metadata": {
            "tags": []
          },
          "execution_count": 3
        }
      ]
    },
    {
      "cell_type": "markdown",
      "metadata": {
        "id": "Ubd67eefcf03",
        "colab_type": "text"
      },
      "source": [
        "\"ndarray\" means N-dimensional array. It is the main object of NumPy library. Differently from Python list, the array size cannot increase or decrease once created.\n"
      ]
    },
    {
      "cell_type": "markdown",
      "metadata": {
        "id": "-w0R4eksgnqz",
        "colab_type": "text"
      },
      "source": [
        "What is the data type of \"a\"?"
      ]
    },
    {
      "cell_type": "code",
      "metadata": {
        "id": "FvOkDW1HYCv1",
        "colab_type": "code",
        "colab": {
          "base_uri": "https://localhost:8080/",
          "height": 34
        },
        "outputId": "bd05e202-c3e9-4d8f-f7ad-7cde533c7b49"
      },
      "source": [
        "a.dtype"
      ],
      "execution_count": 4,
      "outputs": [
        {
          "output_type": "execute_result",
          "data": {
            "text/plain": [
              "dtype('int64')"
            ]
          },
          "metadata": {
            "tags": []
          },
          "execution_count": 4
        }
      ]
    },
    {
      "cell_type": "markdown",
      "metadata": {
        "id": "r3FWgylFhCOq",
        "colab_type": "text"
      },
      "source": [
        "'int64' means integer that can range from -9223372036854775808 to 9223372036854775807. For example, 'int8' is a byte (-128 to 127) that occupy far less memory. "
      ]
    },
    {
      "cell_type": "markdown",
      "metadata": {
        "id": "bgQdk5I_hB8D",
        "colab_type": "text"
      },
      "source": [
        "Let's create a matrix 2x3:"
      ]
    },
    {
      "cell_type": "code",
      "metadata": {
        "id": "e4fyWvPPkz8H",
        "colab_type": "code",
        "colab": {
          "base_uri": "https://localhost:8080/",
          "height": 34
        },
        "outputId": "ab00b1ae-a88a-4cda-a37d-4652133bc27e"
      },
      "source": [
        "b = np.array([[1.1, 2.2, 3.3],\n",
        "              [4.4, 5.5, 6.6]])\n",
        "b.dtype"
      ],
      "execution_count": 5,
      "outputs": [
        {
          "output_type": "execute_result",
          "data": {
            "text/plain": [
              "dtype('float64')"
            ]
          },
          "metadata": {
            "tags": []
          },
          "execution_count": 5
        }
      ]
    },
    {
      "cell_type": "markdown",
      "metadata": {
        "id": "K0OtCo8Glwjx",
        "colab_type": "text"
      },
      "source": [
        "'float64' means double precision float. It uses more memory to store the decimals. In a very computational task, precision is often sacrificed to improve the speed.  In Neural Network, you may switch to half precision 'float16'."
      ]
    },
    {
      "cell_type": "markdown",
      "metadata": {
        "id": "zCyTfOpXkmDs",
        "colab_type": "text"
      },
      "source": [
        "How to get the dimensions of the matrix? "
      ]
    },
    {
      "cell_type": "code",
      "metadata": {
        "id": "Bi3eo_O3pXVR",
        "colab_type": "code",
        "colab": {
          "base_uri": "https://localhost:8080/",
          "height": 34
        },
        "outputId": "ee9d7c3a-50f6-492d-d541-c67b5244ae65"
      },
      "source": [
        "b.shape"
      ],
      "execution_count": 6,
      "outputs": [
        {
          "output_type": "execute_result",
          "data": {
            "text/plain": [
              "(2, 3)"
            ]
          },
          "metadata": {
            "tags": []
          },
          "execution_count": 6
        }
      ]
    },
    {
      "cell_type": "markdown",
      "metadata": {
        "id": "4T4vbUe8taS_",
        "colab_type": "text"
      },
      "source": [
        "How to get the numbers of elements?"
      ]
    },
    {
      "cell_type": "code",
      "metadata": {
        "id": "lcU2_qW7toK4",
        "colab_type": "code",
        "colab": {
          "base_uri": "https://localhost:8080/",
          "height": 34
        },
        "outputId": "85d384c6-ea7b-4b75-b3fc-41fc4641339a"
      },
      "source": [
        "b.size"
      ],
      "execution_count": 7,
      "outputs": [
        {
          "output_type": "execute_result",
          "data": {
            "text/plain": [
              "6"
            ]
          },
          "metadata": {
            "tags": []
          },
          "execution_count": 7
        }
      ]
    },
    {
      "cell_type": "markdown",
      "metadata": {
        "id": "LZGkOh11wmvF",
        "colab_type": "text"
      },
      "source": [
        "Let's create an array with string:"
      ]
    },
    {
      "cell_type": "code",
      "metadata": {
        "id": "Gky6iXtzwzY4",
        "colab_type": "code",
        "colab": {
          "base_uri": "https://localhost:8080/",
          "height": 34
        },
        "outputId": "4167a9d3-f6a2-4741-b2d9-2f993d1aac05"
      },
      "source": [
        "c = np.array(['yes', 'no', \n",
        "              'yes','no'])\n",
        "c.dtype.name"
      ],
      "execution_count": 8,
      "outputs": [
        {
          "output_type": "execute_result",
          "data": {
            "text/plain": [
              "'str96'"
            ]
          },
          "metadata": {
            "tags": []
          },
          "execution_count": 8
        }
      ]
    }
  ]
}