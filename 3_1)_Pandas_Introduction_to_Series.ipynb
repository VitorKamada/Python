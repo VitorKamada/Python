{
  "nbformat": 4,
  "nbformat_minor": 0,
  "metadata": {
    "colab": {
      "name": "3.1) Pandas: Introduction to Series.ipynb",
      "version": "0.3.2",
      "provenance": []
    },
    "kernelspec": {
      "name": "python3",
      "display_name": "Python 3"
    }
  },
  "cells": [
    {
      "cell_type": "markdown",
      "metadata": {
        "id": "CGKCKD4fYCSV",
        "colab_type": "text"
      },
      "source": [
        "# 3.1) Pandas:  Introduction to Series"
      ]
    },
    {
      "cell_type": "markdown",
      "metadata": {
        "id": "hI9zrDq_YBdN",
        "colab_type": "text"
      },
      "source": [
        "**Created by Vitor Kamada**\n",
        "\n",
        "**Date:** 8/12/2019"
      ]
    },
    {
      "cell_type": "code",
      "metadata": {
        "id": "BSYcn3GjYAjj",
        "colab_type": "code",
        "colab": {}
      },
      "source": [
        "import numpy as np\n",
        "import pandas as pd"
      ],
      "execution_count": 0,
      "outputs": []
    },
    {
      "cell_type": "markdown",
      "metadata": {
        "id": "0iZdzVZmbwjV",
        "colab_type": "text"
      },
      "source": [
        "Let's create a sequence of numbers:"
      ]
    },
    {
      "cell_type": "code",
      "metadata": {
        "id": "SSWfn25Nc8sO",
        "colab_type": "code",
        "outputId": "4076e70b-7584-4806-c22d-959af1b2b9de",
        "colab": {
          "base_uri": "https://localhost:8080/",
          "height": 104
        }
      },
      "source": [
        "s = pd.Series([10,11,12,13])\n",
        "s"
      ],
      "execution_count": 2,
      "outputs": [
        {
          "output_type": "execute_result",
          "data": {
            "text/plain": [
              "0    10\n",
              "1    11\n",
              "2    12\n",
              "3    13\n",
              "dtype: int64"
            ]
          },
          "metadata": {
            "tags": []
          },
          "execution_count": 2
        }
      ]
    },
    {
      "cell_type": "markdown",
      "metadata": {
        "id": "6uy7nTm-ep9i",
        "colab_type": "text"
      },
      "source": [
        "Select individual element:"
      ]
    },
    {
      "cell_type": "code",
      "metadata": {
        "id": "goyo1n0GewWG",
        "colab_type": "code",
        "outputId": "e26646b3-6bf8-4c8b-db6a-ddbd2d939f2d",
        "colab": {
          "base_uri": "https://localhost:8080/",
          "height": 34
        }
      },
      "source": [
        "s[3]"
      ],
      "execution_count": 3,
      "outputs": [
        {
          "output_type": "execute_result",
          "data": {
            "text/plain": [
              "13"
            ]
          },
          "metadata": {
            "tags": []
          },
          "execution_count": 3
        }
      ]
    },
    {
      "cell_type": "markdown",
      "metadata": {
        "id": "vyksLrKZg4iF",
        "colab_type": "text"
      },
      "source": [
        "Select multiple items:"
      ]
    },
    {
      "cell_type": "code",
      "metadata": {
        "id": "dABVFaIqYDYF",
        "colab_type": "code",
        "outputId": "4777b32d-e4db-4810-ef4b-46ef9e433bf6",
        "colab": {
          "base_uri": "https://localhost:8080/",
          "height": 69
        }
      },
      "source": [
        "s[2:4]"
      ],
      "execution_count": 4,
      "outputs": [
        {
          "output_type": "execute_result",
          "data": {
            "text/plain": [
              "2    12\n",
              "3    13\n",
              "dtype: int64"
            ]
          },
          "metadata": {
            "tags": []
          },
          "execution_count": 4
        }
      ]
    },
    {
      "cell_type": "markdown",
      "metadata": {
        "id": "Kk6RStYCi_wy",
        "colab_type": "text"
      },
      "source": [
        "Assign values to the elements:"
      ]
    },
    {
      "cell_type": "code",
      "metadata": {
        "id": "WVSivTGyJMrU",
        "colab_type": "code",
        "outputId": "9832611f-6b55-46f0-c833-80e62cc5fac7",
        "colab": {
          "base_uri": "https://localhost:8080/",
          "height": 104
        }
      },
      "source": [
        "s[1] = 0\n",
        "s"
      ],
      "execution_count": 5,
      "outputs": [
        {
          "output_type": "execute_result",
          "data": {
            "text/plain": [
              "0    10\n",
              "1     0\n",
              "2    12\n",
              "3    13\n",
              "dtype: int64"
            ]
          },
          "metadata": {
            "tags": []
          },
          "execution_count": 5
        }
      ]
    },
    {
      "cell_type": "markdown",
      "metadata": {
        "id": "aUH0BRdNc-yL",
        "colab_type": "text"
      },
      "source": [
        "Define a serie starting with NumPy arrays:\n",
        "\n",
        "\n"
      ]
    },
    {
      "cell_type": "code",
      "metadata": {
        "id": "Zqc-pRg9E3mC",
        "colab_type": "code",
        "outputId": "1c2c8902-113c-4263-d47a-0d2fe9bd53d7",
        "colab": {
          "base_uri": "https://localhost:8080/",
          "height": 104
        }
      },
      "source": [
        "arr = np.array([1,2,3,4])\n",
        "s1 = pd.Series(arr)\n",
        "s1"
      ],
      "execution_count": 6,
      "outputs": [
        {
          "output_type": "execute_result",
          "data": {
            "text/plain": [
              "0    1\n",
              "1    2\n",
              "2    3\n",
              "3    4\n",
              "dtype: int64"
            ]
          },
          "metadata": {
            "tags": []
          },
          "execution_count": 6
        }
      ]
    },
    {
      "cell_type": "markdown",
      "metadata": {
        "id": "9GkiT5gxE2cs",
        "colab_type": "text"
      },
      "source": [
        "NumPy array is passed by reference. \n",
        "\n",
        "If the array is changed, \n",
        "the series is changed."
      ]
    },
    {
      "cell_type": "code",
      "metadata": {
        "id": "kvO5ZEaQKEjK",
        "colab_type": "code",
        "outputId": "8f816278-0c51-45f7-a705-58a59085a965",
        "colab": {
          "base_uri": "https://localhost:8080/",
          "height": 104
        }
      },
      "source": [
        "arr[2] = 0\n",
        "s1"
      ],
      "execution_count": 7,
      "outputs": [
        {
          "output_type": "execute_result",
          "data": {
            "text/plain": [
              "0    1\n",
              "1    2\n",
              "2    0\n",
              "3    4\n",
              "dtype: int64"
            ]
          },
          "metadata": {
            "tags": []
          },
          "execution_count": 7
        }
      ]
    },
    {
      "cell_type": "markdown",
      "metadata": {
        "id": "DOGhhSBgiYvQ",
        "colab_type": "text"
      },
      "source": [
        "Filter values:"
      ]
    },
    {
      "cell_type": "code",
      "metadata": {
        "id": "5iV8HXB9F-dF",
        "colab_type": "code",
        "outputId": "b7c599e0-0074-4a60-ecc9-370252ddfd4e",
        "colab": {
          "base_uri": "https://localhost:8080/",
          "height": 69
        }
      },
      "source": [
        "s1[s1 > 1]"
      ],
      "execution_count": 8,
      "outputs": [
        {
          "output_type": "execute_result",
          "data": {
            "text/plain": [
              "1    2\n",
              "3    4\n",
              "dtype: int64"
            ]
          },
          "metadata": {
            "tags": []
          },
          "execution_count": 8
        }
      ]
    },
    {
      "cell_type": "markdown",
      "metadata": {
        "id": "AoJgGuzqIFLT",
        "colab_type": "text"
      },
      "source": [
        "Divide by 2:"
      ]
    },
    {
      "cell_type": "code",
      "metadata": {
        "id": "umq_OU-kYC_N",
        "colab_type": "code",
        "outputId": "c834919f-3408-4acb-bb8d-0e20de7dd82d",
        "colab": {
          "base_uri": "https://localhost:8080/",
          "height": 104
        }
      },
      "source": [
        "s1 / 2"
      ],
      "execution_count": 9,
      "outputs": [
        {
          "output_type": "execute_result",
          "data": {
            "text/plain": [
              "0    0.5\n",
              "1    1.0\n",
              "2    0.0\n",
              "3    2.0\n",
              "dtype: float64"
            ]
          },
          "metadata": {
            "tags": []
          },
          "execution_count": 9
        }
      ]
    },
    {
      "cell_type": "markdown",
      "metadata": {
        "id": "olsw-mtziwzO",
        "colab_type": "text"
      },
      "source": [
        "Use of NumPy  functions:"
      ]
    },
    {
      "cell_type": "code",
      "metadata": {
        "id": "vakKtWj8iw8N",
        "colab_type": "code",
        "colab": {
          "base_uri": "https://localhost:8080/",
          "height": 139
        },
        "outputId": "b0b81053-1d5a-4cc5-beda-e6080fbd4238"
      },
      "source": [
        "np.log(s1)"
      ],
      "execution_count": 10,
      "outputs": [
        {
          "output_type": "stream",
          "text": [
            "/usr/local/lib/python3.6/dist-packages/ipykernel_launcher.py:1: RuntimeWarning: divide by zero encountered in log\n",
            "  \"\"\"Entry point for launching an IPython kernel.\n"
          ],
          "name": "stderr"
        },
        {
          "output_type": "execute_result",
          "data": {
            "text/plain": [
              "0    0.000000\n",
              "1    0.693147\n",
              "2        -inf\n",
              "3    1.386294\n",
              "dtype: float64"
            ]
          },
          "metadata": {
            "tags": []
          },
          "execution_count": 10
        }
      ]
    },
    {
      "cell_type": "markdown",
      "metadata": {
        "id": "U3Uv80_Hjz2V",
        "colab_type": "text"
      },
      "source": [
        "Create a series with NaN (Not a Number):\n",
        "\n",
        "For example: missing values."
      ]
    },
    {
      "cell_type": "code",
      "metadata": {
        "id": "GzZj9qbnjz_l",
        "colab_type": "code",
        "colab": {
          "base_uri": "https://localhost:8080/",
          "height": 104
        },
        "outputId": "ecd0fcf6-1e13-4b3b-bf12-04b49544d8a2"
      },
      "source": [
        "s2 = pd.Series([1,2,np.NaN,4])\n",
        "s2"
      ],
      "execution_count": 11,
      "outputs": [
        {
          "output_type": "execute_result",
          "data": {
            "text/plain": [
              "0    1.0\n",
              "1    2.0\n",
              "2    NaN\n",
              "3    4.0\n",
              "dtype: float64"
            ]
          },
          "metadata": {
            "tags": []
          },
          "execution_count": 11
        }
      ]
    },
    {
      "cell_type": "markdown",
      "metadata": {
        "id": "OASXfFnlka5v",
        "colab_type": "text"
      },
      "source": [
        "Identify the indexes without a value:"
      ]
    },
    {
      "cell_type": "code",
      "metadata": {
        "id": "tXlVpFa5kbBV",
        "colab_type": "code",
        "colab": {
          "base_uri": "https://localhost:8080/",
          "height": 104
        },
        "outputId": "d8d4f95f-4140-449b-a326-fcb929ba73a8"
      },
      "source": [
        "s2.isnull()"
      ],
      "execution_count": 12,
      "outputs": [
        {
          "output_type": "execute_result",
          "data": {
            "text/plain": [
              "0    False\n",
              "1    False\n",
              "2     True\n",
              "3    False\n",
              "dtype: bool"
            ]
          },
          "metadata": {
            "tags": []
          },
          "execution_count": 12
        }
      ]
    }
  ]
}