{
  "nbformat": 4,
  "nbformat_minor": 0,
  "metadata": {
    "colab": {
      "name": "4.2) Matplotlib: Boxplot and Histogram.ipynb",
      "version": "0.3.2",
      "provenance": []
    },
    "kernelspec": {
      "name": "python3",
      "display_name": "Python 3"
    }
  },
  "cells": [
    {
      "cell_type": "markdown",
      "metadata": {
        "id": "CGKCKD4fYCSV",
        "colab_type": "text"
      },
      "source": [
        "# 4.2) Matplotlib: Boxplot and Histogram"
      ]
    },
    {
      "cell_type": "markdown",
      "metadata": {
        "id": "hI9zrDq_YBdN",
        "colab_type": "text"
      },
      "source": [
        "**Created by Vitor Kamada**\n",
        "\n",
        "**Date:** 9/8/2019"
      ]
    },
    {
      "cell_type": "code",
      "metadata": {
        "id": "BSYcn3GjYAjj",
        "colab_type": "code",
        "colab": {}
      },
      "source": [
        "import numpy as np\n",
        "import matplotlib.pyplot as plt"
      ],
      "execution_count": 0,
      "outputs": []
    },
    {
      "cell_type": "code",
      "metadata": {
        "id": "cT2DScYgZwSr",
        "colab_type": "code",
        "outputId": "52685d9a-faec-4023-b265-708b72a200d8",
        "colab": {
          "base_uri": "https://localhost:8080/",
          "height": 223
        }
      },
      "source": [
        "data = np.random.randint(0,100,200)\n",
        "data"
      ],
      "execution_count": 2,
      "outputs": [
        {
          "output_type": "execute_result",
          "data": {
            "text/plain": [
              "array([32, 33, 28, 22, 33, 48, 35, 74, 75, 91, 75, 74, 87, 55, 36, 94, 86,\n",
              "       66, 17, 27, 18, 67, 68, 95, 72, 53, 33, 81, 94, 42, 63, 31, 76, 45,\n",
              "       55, 74,  6, 84, 24,  0, 31, 23, 91, 27, 30, 90, 75, 36, 25, 22,  6,\n",
              "       70, 97, 17, 56,  7, 60,  5,  7, 11, 10, 45, 13, 72, 59, 58, 93, 69,\n",
              "       45, 94, 58, 42, 47, 90, 20, 58, 55,  0, 40, 35,  6, 98,  3, 57, 31,\n",
              "       42, 42, 45, 70, 29, 92, 93, 61, 31, 47, 69, 98, 28, 82, 76, 81, 71,\n",
              "       64, 33, 47,  2, 57, 42, 85, 37, 53, 32,  4,  0, 35, 80, 49, 29, 47,\n",
              "        4, 20,  3, 41, 39, 10,  3, 11, 41, 85,  3, 71, 75, 85, 66, 93, 52,\n",
              "       34, 77, 69, 64, 39, 52, 68, 87, 80, 65, 11, 15, 52, 87, 39, 24, 43,\n",
              "       15, 46, 64, 42, 63, 20, 27, 26, 34, 63, 82, 17, 48,  7, 78, 32, 43,\n",
              "       89,  6, 56, 51, 69, 76, 56, 39, 92,  5, 40, 49, 55, 17,  9, 79, 83,\n",
              "       77, 18, 34, 40, 72, 27, 99, 51, 94, 87, 24, 28, 46])"
            ]
          },
          "metadata": {
            "tags": []
          },
          "execution_count": 2
        }
      ]
    },
    {
      "cell_type": "code",
      "metadata": {
        "id": "dghUjGLLGj3q",
        "colab_type": "code",
        "colab": {
          "base_uri": "https://localhost:8080/",
          "height": 407
        },
        "outputId": "9139ef9c-faab-458c-88ab-879c97b12281"
      },
      "source": [
        "plt.boxplot(data)"
      ],
      "execution_count": 3,
      "outputs": [
        {
          "output_type": "execute_result",
          "data": {
            "text/plain": [
              "{'boxes': [<matplotlib.lines.Line2D at 0x7f9e6d751a20>],\n",
              " 'caps': [<matplotlib.lines.Line2D at 0x7f9e6d767278>,\n",
              "  <matplotlib.lines.Line2D at 0x7f9e6d7675c0>],\n",
              " 'fliers': [<matplotlib.lines.Line2D at 0x7f9e6d767c50>],\n",
              " 'means': [],\n",
              " 'medians': [<matplotlib.lines.Line2D at 0x7f9e6d767908>],\n",
              " 'whiskers': [<matplotlib.lines.Line2D at 0x7f9e6d751ba8>,\n",
              "  <matplotlib.lines.Line2D at 0x7f9e6d751ef0>]}"
            ]
          },
          "metadata": {
            "tags": []
          },
          "execution_count": 3
        },
        {
          "output_type": "display_data",
          "data": {
            "image/png": "[encoded data removed]",
            "text/plain": [
              "<Figure size 432x288 with 1 Axes>"
            ]
          },
          "metadata": {
            "tags": []
          }
        }
      ]
    },
    {
      "cell_type": "code",
      "metadata": {
        "id": "hDWsae1LFQE1",
        "colab_type": "code",
        "colab": {
          "base_uri": "https://localhost:8080/",
          "height": 372
        },
        "outputId": "f434cec9-6626-4e85-d20c-21b03343df2d"
      },
      "source": [
        "plt.hist(data, bins=20)"
      ],
      "execution_count": 4,
      "outputs": [
        {
          "output_type": "execute_result",
          "data": {
            "text/plain": [
              "(array([10., 10.,  6.,  8.,  9., 11., 15., 10., 13., 14.,  7., 13.,  8.,\n",
              "        10., 10., 11.,  8.,  9., 13.,  5.]),\n",
              " array([ 0.  ,  4.95,  9.9 , 14.85, 19.8 , 24.75, 29.7 , 34.65, 39.6 ,\n",
              "        44.55, 49.5 , 54.45, 59.4 , 64.35, 69.3 , 74.25, 79.2 , 84.15,\n",
              "        89.1 , 94.05, 99.  ]),\n",
              " <a list of 20 Patch objects>)"
            ]
          },
          "metadata": {
            "tags": []
          },
          "execution_count": 4
        },
        {
          "output_type": "display_data",
          "data": {
            "image/png": "[encoded data removed]",
            "text/plain": [
              "<Figure size 432x288 with 1 Axes>"
            ]
          },
          "metadata": {
            "tags": []
          }
        }
      ]
    },
    {
      "cell_type": "code",
      "metadata": {
        "id": "BUy5UWgQHf2K",
        "colab_type": "code",
        "colab": {
          "base_uri": "https://localhost:8080/",
          "height": 372
        },
        "outputId": "b2eb783e-d708-4640-e69c-6afe6106c325"
      },
      "source": [
        "plt.subplot(211)\n",
        "plt.boxplot(data)\n",
        "\n",
        "plt.subplot(212)\n",
        "plt.hist(data, bins=20)"
      ],
      "execution_count": 5,
      "outputs": [
        {
          "output_type": "execute_result",
          "data": {
            "text/plain": [
              "(array([10., 10.,  6.,  8.,  9., 11., 15., 10., 13., 14.,  7., 13.,  8.,\n",
              "        10., 10., 11.,  8.,  9., 13.,  5.]),\n",
              " array([ 0.  ,  4.95,  9.9 , 14.85, 19.8 , 24.75, 29.7 , 34.65, 39.6 ,\n",
              "        44.55, 49.5 , 54.45, 59.4 , 64.35, 69.3 , 74.25, 79.2 , 84.15,\n",
              "        89.1 , 94.05, 99.  ]),\n",
              " <a list of 20 Patch objects>)"
            ]
          },
          "metadata": {
            "tags": []
          },
          "execution_count": 5
        },
        {
          "output_type": "display_data",
          "data": {
            "image/png": "[encoded data removed]",
            "text/plain": [
              "<Figure size 432x288 with 2 Axes>"
            ]
          },
          "metadata": {
            "tags": []
          }
        }
      ]
    },
    {
      "cell_type": "code",
      "metadata": {
        "id": "Wawi51p9H8yq",
        "colab_type": "code",
        "colab": {
          "base_uri": "https://localhost:8080/",
          "height": 372
        },
        "outputId": "a51f21bb-8554-48f8-f65c-bc315e3d2ad9"
      },
      "source": [
        "plt.subplot(121)\n",
        "plt.boxplot(data)\n",
        "\n",
        "plt.subplot(122)\n",
        "plt.hist(data, bins=20)"
      ],
      "execution_count": 6,
      "outputs": [
        {
          "output_type": "execute_result",
          "data": {
            "text/plain": [
              "(array([10., 10.,  6.,  8.,  9., 11., 15., 10., 13., 14.,  7., 13.,  8.,\n",
              "        10., 10., 11.,  8.,  9., 13.,  5.]),\n",
              " array([ 0.  ,  4.95,  9.9 , 14.85, 19.8 , 24.75, 29.7 , 34.65, 39.6 ,\n",
              "        44.55, 49.5 , 54.45, 59.4 , 64.35, 69.3 , 74.25, 79.2 , 84.15,\n",
              "        89.1 , 94.05, 99.  ]),\n",
              " <a list of 20 Patch objects>)"
            ]
          },
          "metadata": {
            "tags": []
          },
          "execution_count": 6
        },
        {
          "output_type": "display_data",
          "data": {
            "image/png": "[encoded data removed]",
            "text/plain": [
              "<Figure size 432x288 with 2 Axes>"
            ]
          },
          "metadata": {
            "tags": []
          }
        }
      ]
    }
  ]
}